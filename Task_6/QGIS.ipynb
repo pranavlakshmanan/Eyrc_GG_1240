{
 "cells": [
  {
   "cell_type": "code",
   "execution_count": 1,
   "metadata": {},
   "outputs": [
    {
     "ename": "ModuleNotFoundError",
     "evalue": "No module named 'qgis'",
     "output_type": "error",
     "traceback": [
      "\u001b[0;31m---------------------------------------------------------------------------\u001b[0m",
      "\u001b[0;31mModuleNotFoundError\u001b[0m                       Traceback (most recent call last)",
      "Cell \u001b[0;32mIn[1], line 1\u001b[0m\n\u001b[0;32m----> 1\u001b[0m \u001b[38;5;28;01mfrom\u001b[39;00m \u001b[38;5;21;01mqgis\u001b[39;00m\u001b[38;5;21;01m.\u001b[39;00m\u001b[38;5;21;01mcore\u001b[39;00m \u001b[38;5;28;01mimport\u001b[39;00m QgsRasterLayer\n\u001b[1;32m      2\u001b[0m \u001b[38;5;28;01mfrom\u001b[39;00m \u001b[38;5;21;01mqgis\u001b[39;00m\u001b[38;5;21;01m.\u001b[39;00m\u001b[38;5;21;01mPyQt\u001b[39;00m\u001b[38;5;21;01m.\u001b[39;00m\u001b[38;5;21;01mQtCore\u001b[39;00m \u001b[38;5;28;01mimport\u001b[39;00m QPoint\n\u001b[1;32m      4\u001b[0m \u001b[38;5;66;03m# Load the raster layer\u001b[39;00m\n",
      "\u001b[0;31mModuleNotFoundError\u001b[0m: No module named 'qgis'"
     ]
    }
   ],
   "source": [
    "from qgis.core import QgsRasterLayer\n",
    "from qgis.PyQt.QtCore import QPoint\n",
    "\n",
    "# Load the raster layer\n",
    "layer = QgsRasterLayer(\n",
    "    \"/mnt/Storage/Projects/E-YRC/EYRC_2023/Task_4/Task_4B/task2d_image.tif\",\n",
    "    \"raster\",\n",
    ")\n",
    "\n",
    "# Ensure the layer is valid\n",
    "# if not layer.isValid():\n",
    "#     print(\"Layer failed to load!\")\n",
    "# else:\n",
    "#     QgsProject.instance().addMapLayer(layer)\n",
    "\n",
    "# Get the coordinate transform\n",
    "transform = layer.dataProvider().transform()\n",
    "\n",
    "# Define your pixel coordinates (replace with your actual coordinates)\n",
    "pixel_coords = [(100, 200), (300, 400)]  # example pixel coordinates\n",
    "\n",
    "# Convert pixel coordinates to geographic coordinates\n",
    "geo_coords = [transform.toMapCoordinates(QPoint(x, y)) for x, y in pixel_coords]\n",
    "\n",
    "# Print the geographic coordinates\n",
    "for coord in geo_coords:\n",
    "    print(f\"Latitude: {coord.y()}, Longitude: {coord.x()}\")\n"
   ]
  }
 ],
 "metadata": {
  "kernelspec": {
   "display_name": "GG_1240",
   "language": "python",
   "name": "python3"
  },
  "language_info": {
   "codemirror_mode": {
    "name": "ipython",
    "version": 3
   },
   "file_extension": ".py",
   "mimetype": "text/x-python",
   "name": "python",
   "nbconvert_exporter": "python",
   "pygments_lexer": "ipython3",
   "version": "3.10.12"
  }
 },
 "nbformat": 4,
 "nbformat_minor": 2
}
