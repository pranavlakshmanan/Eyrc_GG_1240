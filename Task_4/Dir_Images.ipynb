{
 "cells": [
  {
   "cell_type": "markdown",
   "metadata": {},
   "source": [
    "### Make all .jpg"
   ]
  },
  {
   "cell_type": "code",
   "execution_count": 4,
   "metadata": {},
   "outputs": [],
   "source": [
    "import os\n",
    "from PIL import Image\n",
    "\n",
    "def convert_images_to_jpg(directory):\n",
    "    for filename in os.listdir(directory):\n",
    "        if not filename.endswith(\".jpg\"): \n",
    "            img = Image.open(os.path.join(directory, filename))\n",
    "            rgb_img = img.convert('RGB')\n",
    "            rgb_img.save(os.path.join(directory, filename.split('.')[0] + '.jpg'), 'JPEG')\n",
    "            os.remove(os.path.join(directory, filename))\n",
    "            continue\n",
    "        else:\n",
    "            continue\n",
    "convert_images_to_jpg(\"/mnt/Storage/Downloads/Final_dataset/destroyed_buildings/selected\")\n"
   ]
  },
  {
   "cell_type": "markdown",
   "metadata": {},
   "source": [
    "### Remove Duplicates"
   ]
  },
  {
   "cell_type": "code",
   "execution_count": 2,
   "metadata": {},
   "outputs": [],
   "source": [
    "import hashlib\n",
    "import os\n",
    "\n",
    "hashes = set()\n",
    "directory = \"/mnt/Storage/Downloads/Final_dataset/destroyed_buildings/selected\"\n",
    "for filename in os.listdir(directory):\n",
    "    path = os.path.join(directory, filename)\n",
    "    digest = hashlib.sha1(open(path,'rb').read()).digest()\n",
    "    if digest not in hashes:\n",
    "        hashes.add(digest)\n",
    "    else:\n",
    "        os.remove(path)\n"
   ]
  }
 ],
 "metadata": {
  "kernelspec": {
   "display_name": "GG_1240",
   "language": "python",
   "name": "python3"
  },
  "language_info": {
   "codemirror_mode": {
    "name": "ipython",
    "version": 3
   },
   "file_extension": ".py",
   "mimetype": "text/x-python",
   "name": "python",
   "nbconvert_exporter": "python",
   "pygments_lexer": "ipython3",
   "version": "3.10.12"
  }
 },
 "nbformat": 4,
 "nbformat_minor": 2
}
