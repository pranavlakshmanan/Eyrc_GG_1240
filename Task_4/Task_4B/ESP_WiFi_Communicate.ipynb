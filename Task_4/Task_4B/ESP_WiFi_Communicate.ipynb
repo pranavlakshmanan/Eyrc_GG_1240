{
 "cells": [
  {
   "cell_type": "code",
   "execution_count": 51,
   "metadata": {},
   "outputs": [],
   "source": [
    "import socket\n",
    "\n",
    "server_socket = socket.socket(socket.AF_INET, socket.SOCK_STREAM)\n",
    "server_socket.bind((\"0.0.0.0\", 9000))\n",
    "server_socket.listen(0)\n",
    "\n",
    "while True:\n",
    "    client_socket, addr = server_socket.accept()\n",
    "    print(\"Got connection from\", addr)\n",
    "    data = client_socket.recv(1024)\n",
    "    print(\"Received\", repr(data))\n"
   ]
  },
  {
   "cell_type": "code",
   "execution_count": 14,
   "metadata": {},
   "outputs": [
    {
     "name": "stdout",
     "output_type": "stream",
     "text": [
      "Connected by ('192.168.71.184', 60539)\n",
      "1\n",
      "b'Hello from ESP32!'\n",
      "2\n",
      "b'Hello from ESP32!'\n",
      "3\n",
      "b'Hello from ESP32!'\n",
      "4\n",
      "b'Hello from ESP32!'\n",
      "5\n",
      "b'Hello from ESP32!'\n",
      "6\n",
      "b'Hello from ESP32!'\n",
      "7\n",
      "b'Hello from ESP32!'\n",
      "8\n",
      "b'Hello from ESP32!Hello from ESP32!Hello from ESP32!'\n",
      "9\n",
      "b'Hello from ESP32!'\n"
     ]
    },
    {
     "ename": "KeyboardInterrupt",
     "evalue": "",
     "output_type": "error",
     "traceback": [
      "\u001b[0;31m---------------------------------------------------------------------------\u001b[0m",
      "\u001b[0;31mKeyboardInterrupt\u001b[0m                         Traceback (most recent call last)",
      "Cell \u001b[0;32mIn[14], line 29\u001b[0m\n\u001b[1;32m     27\u001b[0m \u001b[38;5;28mprint\u001b[39m(\u001b[38;5;124mf\u001b[39m\u001b[38;5;124m\"\u001b[39m\u001b[38;5;124mConnected by \u001b[39m\u001b[38;5;132;01m{\u001b[39;00maddr\u001b[38;5;132;01m}\u001b[39;00m\u001b[38;5;124m\"\u001b[39m)\n\u001b[1;32m     28\u001b[0m \u001b[38;5;28;01mwhile\u001b[39;00m \u001b[38;5;28;01mTrue\u001b[39;00m:\n\u001b[0;32m---> 29\u001b[0m     data \u001b[38;5;241m=\u001b[39m \u001b[43mconn\u001b[49m\u001b[38;5;241;43m.\u001b[39;49m\u001b[43mrecv\u001b[49m\u001b[43m(\u001b[49m\u001b[38;5;241;43m1024\u001b[39;49m\u001b[43m)\u001b[49m\n\u001b[1;32m     30\u001b[0m     \u001b[38;5;28mprint\u001b[39m(counter)\n\u001b[1;32m     31\u001b[0m     \u001b[38;5;28mprint\u001b[39m(data)\n",
      "\u001b[0;31mKeyboardInterrupt\u001b[0m: "
     ]
    }
   ],
   "source": [
    "import socket\n",
    "from time import sleep\n",
    "import signal\n",
    "import sys\n",
    "\n",
    "\n",
    "def signal_handler(sig, frame):\n",
    "    print(\"Clean-up !\")\n",
    "    cleanup()\n",
    "    sys.exit(0)\n",
    "\n",
    "\n",
    "def cleanup():\n",
    "    s.close()\n",
    "    print(\"cleanup done\")\n",
    "\n",
    "\n",
    "ip = \"192.168.71.121\"\n",
    "counter = 1\n",
    "\n",
    "with socket.socket(socket.AF_INET, socket.SOCK_STREAM) as s:\n",
    "    s.setsockopt(socket.SOL_SOCKET, socket.SO_REUSEADDR, 1)\n",
    "    s.bind((ip, 1240))\n",
    "    s.listen()\n",
    "    conn, addr = s.accept()\n",
    "    with conn:\n",
    "        print(f\"Connected by {addr}\")\n",
    "        while True:\n",
    "            data = conn.recv(1024)\n",
    "            print(counter)\n",
    "            print(data)\n",
    "            conn.sendall(str.encode(str(counter)))\n",
    "            counter += 1\n",
    "            # if counter == 10:\n",
    "            #     s.close()\n",
    "            #     break\n"
   ]
  }
 ],
 "metadata": {
  "kernelspec": {
   "display_name": "GG_1240",
   "language": "python",
   "name": "python3"
  },
  "language_info": {
   "codemirror_mode": {
    "name": "ipython",
    "version": 3
   },
   "file_extension": ".py",
   "mimetype": "text/x-python",
   "name": "python",
   "nbconvert_exporter": "python",
   "pygments_lexer": "ipython3",
   "version": "3.10.12"
  }
 },
 "nbformat": 4,
 "nbformat_minor": 2
}
