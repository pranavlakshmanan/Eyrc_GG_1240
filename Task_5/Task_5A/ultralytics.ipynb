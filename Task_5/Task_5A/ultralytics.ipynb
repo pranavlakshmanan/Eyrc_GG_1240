{
 "cells": [
  {
   "cell_type": "code",
   "execution_count": 5,
   "metadata": {},
   "outputs": [
    {
     "name": "stdout",
     "output_type": "stream",
     "text": [
      "Ultralytics YOLOv8.1.4 🚀 Python-3.10.12 torch-2.0.0.post101 CPU (Intel Core(TM) i5-8265U 1.60GHz)\n",
      "Ultralytics YOLOv8.1.4 🚀 Python-3.10.12 torch-2.0.0.post101 CPU (Intel Core(TM) i5-8265U 1.60GHz)\n",
      "Setup complete ✅ (8 CPUs, 7.6 GB RAM, 106.1/134.6 GB disk)\n",
      "Setup complete ✅ (8 CPUs, 7.6 GB RAM, 106.1/134.6 GB disk)\n"
     ]
    }
   ],
   "source": [
    "import torch\n",
    "import ultralytics\n",
    "\n",
    "ultralytics.checks()\n"
   ]
  },
  {
   "cell_type": "code",
   "execution_count": 6,
   "metadata": {},
   "outputs": [],
   "source": [
    "# import locale\n",
    "# locale.getpreferredencoding = lambda: \"UTF-8\"\n",
    "logger = 'Comet' #@param ['Comet', 'TensorBoard']\n",
    "\n",
    "if logger == 'Comet':\n",
    "#   !pip install -q comet_ml\n",
    "  import comet_ml; comet_ml.init()\n"
   ]
  },
  {
   "cell_type": "code",
   "execution_count": 1,
   "metadata": {},
   "outputs": [
    {
     "name": "stderr",
     "output_type": "stream",
     "text": [
      "/home/srikar/miniconda3/envs/GG_1240/lib/python3.10/site-packages/torchvision/io/image.py:13: UserWarning: Failed to load image Python extension: 'libc10_cuda.so: cannot open shared object file: No such file or directory'If you don't plan on using image functionality from `torchvision.io`, you can ignore this warning. Otherwise, there might be something wrong with your environment. Did you have `libjpeg` or `libpng` installed before building `torchvision` from source?\n",
      "  warn(\n"
     ]
    },
    {
     "name": "stdout",
     "output_type": "stream",
     "text": [
      "/home/srikar/miniconda3/envs/GG_1240/lib/python3.10/site-packages/torchvision/io/image.py:13: UserWarning: Failed to load image Python extension: 'libc10_cuda.so: cannot open shared object file: No such file or directory'If you don't plan on using image functionality from `torchvision.io`, you can ignore this warning. Otherwise, there might be something wrong with your environment. Did you have `libjpeg` or `libpng` installed before building `torchvision` from source?\n",
      "  warn(\n",
      "New https://pypi.org/project/ultralytics/8.1.8 available 😃 Update with 'pip install -U ultralytics'\n",
      "Ultralytics YOLOv8.1.4 🚀 Python-3.10.12 torch-2.0.0.post101 CPU (Intel Core(TM) i5-8265U 1.60GHz)\n",
      "\u001b[34m\u001b[1mengine/trainer: \u001b[0mtask=classify, mode=train, model=yolov8n-cls.pt, data=/mnt/Storage/Dataset/Yolo-cls/, epochs=2, time=None, patience=50, batch=16, imgsz=96, save=True, save_period=-1, cache=False, device=None, workers=8, project=None, name=train15, exist_ok=False, pretrained=True, optimizer=auto, verbose=True, seed=0, deterministic=True, single_cls=False, rect=False, cos_lr=False, close_mosaic=10, resume=False, amp=True, fraction=1.0, profile=False, freeze=None, multi_scale=False, overlap_mask=True, mask_ratio=4, dropout=0.0, val=True, split=val, save_json=False, save_hybrid=False, conf=None, iou=0.7, max_det=300, half=False, dnn=False, plots=True, source=None, vid_stride=1, stream_buffer=False, visualize=False, augment=False, agnostic_nms=False, classes=None, retina_masks=False, embed=None, show=False, save_frames=False, save_txt=False, save_conf=False, save_crop=False, show_labels=True, show_conf=True, show_boxes=True, line_width=None, format=torchscript, keras=False, optimize=False, int8=False, dynamic=False, simplify=False, opset=None, workspace=4, nms=False, lr0=0.01, lrf=0.01, momentum=0.937, weight_decay=0.0005, warmup_epochs=3.0, warmup_momentum=0.8, warmup_bias_lr=0.1, box=7.5, cls=0.5, dfl=1.5, pose=12.0, kobj=1.0, label_smoothing=0.0, nbs=64, hsv_h=0.015, hsv_s=0.7, hsv_v=0.4, degrees=0.0, translate=0.1, scale=0.5, shear=0.0, perspective=0.0, flipud=0.0, fliplr=0.5, mosaic=1.0, mixup=0.0, copy_paste=0.0, auto_augment=randaugment, erasing=0.4, crop_fraction=1.0, cfg=None, tracker=botsort.yaml, save_dir=runs/classify/train15\n",
      "\u001b[34m\u001b[1mtrain:\u001b[0m /mnt/Storage/Dataset/Yolo-cls/train... found 1791 images in 6 classes ✅ \n",
      "\u001b[34m\u001b[1mval:\u001b[0m /mnt/Storage/Dataset/Yolo-cls/val... found 236 images in 6 classes ✅ \n",
      "\u001b[34m\u001b[1mtest:\u001b[0m /mnt/Storage/Dataset/Yolo-cls/test... found 258 images in 5 classes: ERROR ❌️ requires 6 classes, not 5\n",
      "2024-01-30 23:52:30.508864: E external/local_xla/xla/stream_executor/cuda/cuda_dnn.cc:9261] Unable to register cuDNN factory: Attempting to register factory for plugin cuDNN when one has already been registered\n",
      "2024-01-30 23:52:30.508927: E external/local_xla/xla/stream_executor/cuda/cuda_fft.cc:607] Unable to register cuFFT factory: Attempting to register factory for plugin cuFFT when one has already been registered\n",
      "2024-01-30 23:52:30.550765: E external/local_xla/xla/stream_executor/cuda/cuda_blas.cc:1515] Unable to register cuBLAS factory: Attempting to register factory for plugin cuBLAS when one has already been registered\n",
      "Overriding model.yaml nc=1000 with nc=6\n",
      "\n",
      "                   from  n    params  module                                       arguments                     \n",
      "  0                  -1  1       464  ultralytics.nn.modules.conv.Conv             [3, 16, 3, 2]                 \n",
      "  1                  -1  1      4672  ultralytics.nn.modules.conv.Conv             [16, 32, 3, 2]                \n",
      "  2                  -1  1      7360  ultralytics.nn.modules.block.C2f             [32, 32, 1, True]             \n",
      "  3                  -1  1     18560  ultralytics.nn.modules.conv.Conv             [32, 64, 3, 2]                \n",
      "  4                  -1  2     49664  ultralytics.nn.modules.block.C2f             [64, 64, 2, True]             \n",
      "  5                  -1  1     73984  ultralytics.nn.modules.conv.Conv             [64, 128, 3, 2]               \n",
      "  6                  -1  2    197632  ultralytics.nn.modules.block.C2f             [128, 128, 2, True]           \n",
      "  7                  -1  1    295424  ultralytics.nn.modules.conv.Conv             [128, 256, 3, 2]              \n",
      "  8                  -1  1    460288  ultralytics.nn.modules.block.C2f             [256, 256, 1, True]           \n",
      "  9                  -1  1    337926  ultralytics.nn.modules.head.Classify         [256, 6]                      \n",
      "YOLOv8n-cls summary: 99 layers, 1445974 parameters, 1445974 gradients\n",
      "Transferred 156/158 items from pretrained weights\n",
      "\u001b[1;38;5;214mCOMET WARNING:\u001b[0m To get all data logged automatically, import comet_ml before the following modules: torch.\n",
      "\u001b[1;38;5;39mCOMET INFO:\u001b[0m Experiment is live on comet.com \u001b[38;5;39mhttps://www.comet.com/srikarbharadwajr/general/2accea4b95a44e448957edebcab95a53\u001b[0m\n",
      "\n",
      "\u001b[34m\u001b[1mTensorBoard: \u001b[0mStart with 'tensorboard --logdir runs/classify/train15', view at http://localhost:6006/\n",
      "\u001b[34m\u001b[1mtrain: \u001b[0mScanning /mnt/Storage/Dataset/Yolo-cls/train... 1791 images, 0 corrupt: 100%|██████████| 1791/1791 [00:09<00:00, 184.20it/s]\n",
      "\u001b[34m\u001b[1mtrain: \u001b[0mNew cache created: /mnt/Storage/Dataset/Yolo-cls/train.cache\n",
      "\u001b[34m\u001b[1mval: \u001b[0mScanning /mnt/Storage/Dataset/Yolo-cls/val... 236 images, 0 corrupt: 100%|██████████| 236/236 [00:01<00:00, 200.50it/s]\n",
      "\u001b[34m\u001b[1mval: \u001b[0mNew cache created: /mnt/Storage/Dataset/Yolo-cls/val.cache\n",
      "\u001b[34m\u001b[1moptimizer:\u001b[0m 'optimizer=auto' found, ignoring 'lr0=0.01' and 'momentum=0.937' and determining best 'optimizer', 'lr0' and 'momentum' automatically... \n",
      "\u001b[34m\u001b[1moptimizer:\u001b[0m AdamW(lr=0.000714, momentum=0.9) with parameter groups 26 weight(decay=0.0), 27 weight(decay=0.0005), 27 bias(decay=0.0)\n",
      "\u001b[34m\u001b[1mTensorBoard: \u001b[0mmodel graph visualization added ✅\n",
      "Image sizes 96 train, 96 val\n",
      "Using 0 dataloader workers\n",
      "Logging results to \u001b[1mruns/classify/train15\u001b[0m\n",
      "Starting training for 2 epochs...\n",
      "\n",
      "      Epoch    GPU_mem       loss  Instances       Size\n",
      "  0%|          | 0/112 [00:00<?, ?it/s]^C\n"
     ]
    }
   ],
   "source": [
    "import torch\n",
    "from ultralytics import YOLO\n",
    "!yolo train model=yolov8n-cls.pt data=\"/mnt/Storage/Dataset/Yolo-cls/\" epochs=2 imgsz=96\n",
    "# model = YOLO(\"yolov8n-cls.pt\")  # load a pretrained YOLOv8n classification model\n",
    "# model.train(data=\"/mnt/Storage/Dataset/Yolo/data.yaml\", epochs=3)  # train the model\n"
   ]
  },
  {
   "cell_type": "code",
   "execution_count": 1,
   "metadata": {},
   "outputs": [
    {
     "name": "stderr",
     "output_type": "stream",
     "text": [
      "/home/srikar/miniconda3/envs/GG_1240/lib/python3.10/site-packages/torchvision/io/image.py:13: UserWarning: Failed to load image Python extension: 'libc10_cuda.so: cannot open shared object file: No such file or directory'If you don't plan on using image functionality from `torchvision.io`, you can ignore this warning. Otherwise, there might be something wrong with your environment. Did you have `libjpeg` or `libpng` installed before building `torchvision` from source?\n",
      "  warn(\n"
     ]
    },
    {
     "name": "stdout",
     "output_type": "stream",
     "text": [
      "\n",
      "image 1/1 /mnt/Storage/Projects/E-YRC/EYRC_2023/Task_5/Task_5A/Event_121.jpg: 160x160 combat 0.81, destroyed_buildings 0.08, human_aid_rehabilitation 0.07, empty 0.02, fire 0.01, 39.1ms\n",
      "Speed: 12.1ms preprocess, 39.1ms inference, 0.0ms postprocess per image at shape (1, 3, 160, 160)\n",
      "{0: 'combat', 1: 'destroyed_buildings', 2: 'empty', 3: 'fire', 4: 'human_aid_rehabilitation', 5: 'military_vehicles'}\n",
      "[0.8138205409049988, 0.07755636423826218, 0.019323287531733513, 0.012510526925325394, 0.0721798911690712, 0.004609408788383007]\n",
      "combat\n",
      "\n",
      "image 1/1 /mnt/Storage/Projects/E-YRC/EYRC_2023/Task_5/Task_5A/Event_129.jpg: 160x160 combat 0.91, destroyed_buildings 0.07, empty 0.01, human_aid_rehabilitation 0.00, military_vehicles 0.00, 10.8ms\n",
      "Speed: 2.4ms preprocess, 10.8ms inference, 0.0ms postprocess per image at shape (1, 3, 160, 160)\n",
      "{0: 'combat', 1: 'destroyed_buildings', 2: 'empty', 3: 'fire', 4: 'human_aid_rehabilitation', 5: 'military_vehicles'}\n",
      "[0.9050737023353577, 0.0721530020236969, 0.013180635869503021, 0.002311383606866002, 0.004363803192973137, 0.002917313016951084]\n",
      "combat\n",
      "\n",
      "image 1/1 /mnt/Storage/Projects/E-YRC/EYRC_2023/Task_5/Task_5A/Event_130.jpg: 160x160 fire 0.94, human_aid_rehabilitation 0.04, destroyed_buildings 0.01, combat 0.01, empty 0.00, 10.2ms\n",
      "Speed: 1.4ms preprocess, 10.2ms inference, 0.0ms postprocess per image at shape (1, 3, 160, 160)\n",
      "{0: 'combat', 1: 'destroyed_buildings', 2: 'empty', 3: 'fire', 4: 'human_aid_rehabilitation', 5: 'military_vehicles'}\n",
      "[0.008583016693592072, 0.00861311424523592, 0.004833032842725515, 0.9411065578460693, 0.03674885630607605, 0.00011547227040864527]\n",
      "fire\n",
      "\n",
      "image 1/1 /mnt/Storage/Projects/E-YRC/EYRC_2023/Task_5/Task_5A/Event_134.jpg: 160x160 combat 0.36, destroyed_buildings 0.24, military_vehicles 0.20, empty 0.14, fire 0.04, 9.9ms\n",
      "Speed: 1.3ms preprocess, 9.9ms inference, 0.0ms postprocess per image at shape (1, 3, 160, 160)\n",
      "{0: 'combat', 1: 'destroyed_buildings', 2: 'empty', 3: 'fire', 4: 'human_aid_rehabilitation', 5: 'military_vehicles'}\n",
      "[0.3643186390399933, 0.23648642003536224, 0.14121966063976288, 0.04196467995643616, 0.02093343809247017, 0.19507718086242676]\n",
      "combat\n",
      "\n",
      "image 1/1 /mnt/Storage/Projects/E-YRC/EYRC_2023/Task_5/Task_5A/Event_148.jpg: 160x160 combat 0.46, military_vehicles 0.38, empty 0.09, destroyed_buildings 0.02, human_aid_rehabilitation 0.02, 10.3ms\n",
      "Speed: 1.3ms preprocess, 10.3ms inference, 0.0ms postprocess per image at shape (1, 3, 160, 160)\n",
      "{0: 'combat', 1: 'destroyed_buildings', 2: 'empty', 3: 'fire', 4: 'human_aid_rehabilitation', 5: 'military_vehicles'}\n",
      "[0.4631597697734833, 0.02469787187874317, 0.09001877158880234, 0.01733613945543766, 0.022764042019844055, 0.382023423910141]\n",
      "combat\n",
      "['combat', 'combat', 'fire', 'combat', 'combat']\n"
     ]
    }
   ],
   "source": [
    "from ultralytics import YOLO\n",
    "\n",
    "# model = YOLO(\"/mnt/Storage/Downloads/best.pt\")\n",
    "# names = model.names\n",
    "# results = model(\"/mnt/Storage/Projects/E-YRC/EYRC_2023/Task_4/Task_4A/ROI11.jpg\")\n",
    "# for r in results:\n",
    "#     for c in r.boxes.cls:\n",
    "#         result = names[int(c)]\n",
    "# print(result)\n",
    "import torch\n",
    "import cv2\n",
    "import numpy as np\n",
    "from PIL import Image\n",
    "\n",
    "# Define your model architecture\n",
    "# Load the state_dict into the model\n",
    "model = YOLO(\"/mnt/Storage/Downloads/best-30.pt\")\n",
    "names = model.names\n",
    "event_arcs = [21, 29, 30, 34, 48]\n",
    "\n",
    "r = []\n",
    "for i in event_arcs:\n",
    "    results = model(\n",
    "        \"/mnt/Storage/Projects/E-YRC/EYRC_2023/Task_5/Task_5A/Event_1\" + str(i) + \".jpg\"\n",
    "    )\n",
    "    names_dict = results[0].names\n",
    "    probs = results[0].probs.data.tolist()\n",
    "    print(names_dict)\n",
    "    print(probs)\n",
    "    print(names_dict[np.argmax(probs)])\n",
    "    r.append(names_dict[np.argmax(probs)])\n",
    "print(r)\n",
    "\n",
    "# results = model(\n",
    "#     \"/mnt/Storage/Projects/E-YRC/EYRC_2023/Task_5/Task_5A/Event_121.jpg\"\n",
    "# )\n",
    "# names_dict = results[0].names\n",
    "# probs = results[0].probs.data.tolist()\n",
    "# print(names_dict)\n",
    "# print(probs)\n",
    "# print(names_dict[np.argmax(probs)])\n",
    "\n",
    "\n",
    "# # model.load_state_dict(model[\"model_state_dict\"])\n",
    "# # model.eval()\n",
    "\n",
    "# # Load an image\n",
    "# image = Image.open(\"/mnt/Storage/Projects/E-YRC/EYRC_2023/Task_4/Task_4A/ROI11.jpg\")\n",
    "# image_cv = cv2.cvtColor(np.array(image), cv2.COLOR_RGB2BGR)\n",
    "\n",
    "# # Perform inference\n",
    "# with torch.no_grad():\n",
    "#     results = model(image)\n",
    "\n",
    "# # Results format: (labels, x_center, y_center, width, height, confidence)\n",
    "# predictions = results.xywhn[0].cpu().numpy()\n",
    "\n",
    "# # Draw bounding boxes and labels on the image\n",
    "# for x_center, y_center, width, height, conf, label in predictions:\n",
    "#     left = int((x_center - width / 2) * image.width)\n",
    "#     top = int((y_center - height / 2) * image.height)\n",
    "#     right = int((x_center + width / 2) * image.width)\n",
    "#     bottom = int((y_center + height / 2) * image.height)\n",
    "\n",
    "#     cv2.rectangle(image_cv, (left, top), (right, bottom), (0, 255, 0), 2)\n",
    "#     cv2.putText(\n",
    "#         image_cv,\n",
    "#         str(label),\n",
    "#         (left, top - 10),\n",
    "#         cv2.FONT_HERSHEY_SIMPLEX,\n",
    "#         0.9,\n",
    "#         (36, 255, 12),\n",
    "#         2,\n",
    "#     )\n",
    "\n",
    "# # Save the image with bounding boxes\n",
    "# cv2.imwrite(\"image_with_boxes.jpg\", image_cv)\n"
   ]
  }
 ],
 "metadata": {
  "kernelspec": {
   "display_name": "GG_1240",
   "language": "python",
   "name": "python3"
  },
  "language_info": {
   "codemirror_mode": {
    "name": "ipython",
    "version": 3
   },
   "file_extension": ".py",
   "mimetype": "text/x-python",
   "name": "python",
   "nbconvert_exporter": "python",
   "pygments_lexer": "ipython3",
   "version": "3.10.12"
  }
 },
 "nbformat": 4,
 "nbformat_minor": 2
}
