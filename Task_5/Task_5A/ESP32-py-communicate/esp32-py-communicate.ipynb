{
 "cells": [
  {
   "cell_type": "code",
   "execution_count": 2,
   "metadata": {},
   "outputs": [
    {
     "name": "stdout",
     "output_type": "stream",
     "text": [
      "Received: Instructions Recieved\n"
     ]
    }
   ],
   "source": [
    "import socket\n",
    "\n",
    "# ESP32 IP address\n",
    "esp32_ip = \"192.168.59.184\"  # Replace with the actual IP address of your ESP32\n",
    "\n",
    "# Create a socket object\n",
    "client_socket = socket.socket(socket.AF_INET, socket.SOCK_STREAM)\n",
    "\n",
    "# Connect to the ESP32 server\n",
    "server_address = (esp32_ip, 80)\n",
    "client_socket.connect(server_address)\n",
    "\n",
    "# Send data to ESP32\n",
    "message = \"l0a1l0f0l0f0l0Ea0l0f0l0r0l0f0l0r0bzf0l0a0l0r0azf0l0r0l0f0l0r0Dzf0l0f0Czu1l0a0l0f0l0r0l0a2ss\"\n",
    "client_socket.sendall(message.encode())\n",
    "\n",
    "# Receive the response\n",
    "data = client_socket.recv(1024)\n",
    "print(\"Received:\", data.decode())\n",
    "\n",
    "# Close the socket\n",
    "client_socket.close()\n",
    "\n",
    "\n"
   ]
  },
  {
   "cell_type": "code",
   "execution_count": 11,
   "metadata": {},
   "outputs": [],
   "source": [
    "import cv2 as cv\n",
    "import numpy as np\n",
    "def undistort_image(img, npz_file):\n",
    "    data = np.load(npz_file)\n",
    "    mtx = data[\"camMatrix\"]\n",
    "    dist = data[\"distCoef\"]\n",
    "    h, w = img.shape[:2]\n",
    "    newcameramtx, roi = cv.getOptimalNewCameraMatrix(mtx, dist, (w, h), 1, (w, h))\n",
    "    dst = cv.undistort(img, mtx, dist, None, newcameramtx)\n",
    "    x, y, w, h = roi\n",
    "    dst = dst[y : y + h, x : x + w]\n",
    "\n",
    "    return dst\n",
    "\n",
    "\n",
    "def open_camera(cam_num):\n",
    "    if cam_num == 0:\n",
    "        try:\n",
    "            cap = cv.VideoCapture(\"/dev/video0\")\n",
    "            if not cap.isOpened():\n",
    "                raise Exception(\"Could not open /dev/video0\")\n",
    "        except:\n",
    "            cap = cv.VideoCapture(\"/dev/video1\")\n",
    "            if not cap.isOpened():\n",
    "                print(\"Could not open /dev/video1 either. Please check your device.\")\n",
    "    elif cam_num == 1:\n",
    "        try:\n",
    "            cap = cv.VideoCapture(\"/dev/video2\")\n",
    "            if not cap.isOpened():\n",
    "                raise Exception(\"Could not open /dev/video2\")\n",
    "        except:\n",
    "            cap = cv.VideoCapture(\"/dev/video3\")\n",
    "            if not cap.isOpened():\n",
    "                print(\"Could not open /dev/video3 either. Please check your device.\")\n",
    "\n",
    "    desired_width = 1920\n",
    "    desired_height = 1080\n",
    "    cap.set(cv.CAP_PROP_FRAME_WIDTH, desired_width)\n",
    "    cap.set(cv.CAP_PROP_FRAME_HEIGHT, desired_height)\n",
    "    return cap\n",
    "\n",
    "cap = open_camera(1)\n",
    "\n",
    "while(1):\n",
    "    _, arena = cap.read()\n",
    "    arena = undistort_image(\n",
    "        arena,\n",
    "        \"/mnt/Storage/Projects/E-YRC/EYRC_2023/Task_5/Task_5A/MultiMatrix.npz\",\n",
    "    )\n",
    "    arena = cv.rotate(arena, cv.ROTATE_90_COUNTERCLOCKWISE)[450:1500, 0:1080]    \n",
    "    arena = cv.resize(arena, (900, 900))\n",
    "\n",
    "    cv.imshow(\"Arena\", arena)\n",
    "    if cv.waitKey(1) & 0xFF == ord(\"q\"):\n",
    "        break\n",
    "cap.release()\n",
    "cv.destroyAllWindows()\n"
   ]
  },
  {
   "cell_type": "code",
   "execution_count": null,
   "metadata": {},
   "outputs": [],
   "source": [
    "# import requests\n",
    "\n",
    "\n",
    "# def send_string_to_esp32(ip, message):\n",
    "#     requests.get(f\"http://{ip}/message?value={message}\")\n",
    "\n",
    "\n",
    "# send_string_to_esp32(\"192.168.1.9\", \"l0c0l0f0l0a0l0c0l0a0l0c0l0f\")\n"
   ]
  },
  {
   "cell_type": "markdown",
   "metadata": {},
   "source": [
    "#### Path Code\n",
    "\n",
    "P0P1AP2P3BP4P7DP6P11E"
   ]
  }
 ],
 "metadata": {
  "kernelspec": {
   "display_name": "GG_1240",
   "language": "python",
   "name": "python3"
  },
  "language_info": {
   "codemirror_mode": {
    "name": "ipython",
    "version": 3
   },
   "file_extension": ".py",
   "mimetype": "text/x-python",
   "name": "python",
   "nbconvert_exporter": "python",
   "pygments_lexer": "ipython3",
   "version": "3.10.12"
  }
 },
 "nbformat": 4,
 "nbformat_minor": 2
}
