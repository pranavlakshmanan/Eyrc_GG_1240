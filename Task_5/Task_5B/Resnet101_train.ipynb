{
  "cells": [
    {
      "cell_type": "code",
      "execution_count": 8,
      "metadata": {
        "colab": {
          "base_uri": "https://localhost:8080/"
        },
        "id": "hnfnmoBhSeoZ",
        "outputId": "da6de6b6-7699-4dd8-c737-5c5c7294b2a7"
      },
      "outputs": [
        {
          "name": "stdout",
          "output_type": "stream",
          "text": [
            "cpu\n"
          ]
        }
      ],
      "source": [
        "import torch\n",
        "import numpy as np\n",
        "from torchvision import datasets, models, transforms\n",
        "import matplotlib.pyplot as plt\n",
        "import os\n",
        "from PIL import Image\n",
        "import PIL\n",
        "import cv2 as cv\n",
        "import tensorflow as tf\n",
        "from keras.preprocessing import image\n",
        "from keras.models import load_model\n",
        "import keras.optimizers\n",
        "import numpy as np\n",
        "# from glob import glob\n",
        "import matplotlib.pyplot as plt\n",
        "from datetime import datetime\n",
        "from keras.callbacks import ModelCheckpoint\n",
        "import tensorflow as tf\n",
        "# from tensorflow.keras.applications.resnet_v2 import ResNet50V2, preprocess_input\n",
        "from tensorflow.keras.applications import InceptionV3\n",
        "from tensorflow.keras.applications.resnet import preprocess_input\n",
        "from tensorflow.keras.preprocessing.image import ImageDataGenerator\n",
        "from tensorflow.keras.models import Sequential\n",
        "from tensorflow.keras.layers import Dense\n",
        "from tensorflow.keras.regularizers import l2\n",
        "from tensorflow.keras.layers import Dropout\n",
        "from tensorflow.keras.callbacks import EarlyStopping\n",
        "\n",
        "class_labels = [\n",
        "    \"combat\",\n",
        "    \"destroyedbuilding\",    \n",
        "    \"empty\",\n",
        "    \"fire\",\n",
        "    \"humanitarianaid\",\n",
        "    \"militaryvehicles\",\n",
        "]\n",
        "IMG_SIZE = (160,160)\n",
        "device = \"cuda\" if torch.cuda.is_available() else \"cpu\"\n",
        "print(device)\n"
      ]
    },
    {
      "cell_type": "code",
      "execution_count": 9,
      "metadata": {
        "id": "2GHprMkyTAiB"
      },
      "outputs": [],
      "source": [
        "transform = transforms.Compose(\n",
        "    [\n",
        "        transforms.Resize(IMG_SIZE),\n",
        "        transforms.ToTensor(),\n",
        "        transforms.Normalize(mean=[0.485, 0.456, 0.406], std=[0.229, 0.224, 0.225]),\n",
        "    ]\n",
        ")\n",
        "\n",
        "\n",
        "def preprocess_and_display(image_path):\n",
        "    img = Image.open(image_path)\n",
        "    input_tensor = transform(img)\n",
        "    input_batch = input_tensor.unsqueeze(0)\n",
        "    device = torch.device(\"cuda\" if torch.cuda.is_available() else \"cpu\")\n",
        "    input_batch = input_batch.to(device)\n",
        "\n",
        "    if display:\n",
        "        numpy_img = input_tensor.permute(1, 2, 0).numpy()\n",
        "        numpy_img = cv.cvtColor(numpy_img, cv.COLOR_BGR2RGB)\n",
        "        cv.imshow(\"Preprocessed Image\", numpy_img)\n",
        "        cv.waitKey(200)\n",
        "        cv.destroyAllWindows()\n",
        "\n",
        "    return input_batch\n"
      ]
    },
    {
      "cell_type": "code",
      "execution_count": 10,
      "metadata": {
        "id": "4uV0FFBBTY7w"
      },
      "outputs": [],
      "source": [
        "train_data_dir = \"/mnt/Storage/Dataset/Yolo-cls/train/\"\n",
        "test_data_dir = \"/mnt/Storage/Dataset/Yolo/test/images/\"\n"
      ]
    },
    {
      "cell_type": "code",
      "execution_count": 11,
      "metadata": {
        "id": "uTi9Pgs6UAho"
      },
      "outputs": [],
      "source": [
        "train_datagen = ImageDataGenerator(\n",
        "    rotation_range=5,\n",
        "    width_shift_range=0.1,\n",
        "    height_shift_range=0.1,\n",
        "    shear_range=0.02,\n",
        "    zoom_range=0.01,\n",
        "    horizontal_flip=1,\n",
        "    brightness_range=(0.1, 1.9),\n",
        "    fill_mode=\"constant\",\n",
        "    cval=255,\n",
        "    preprocessing_function = preprocess_input\n",
        ")\n",
        "test_datagen = ImageDataGenerator(\n",
        "    rotation_range=5,\n",
        "    width_shift_range=0.1,\n",
        "    height_shift_range=0.1,\n",
        "    shear_range=0.02,\n",
        "    zoom_range=0.01,\n",
        "    horizontal_flip=1,\n",
        "    brightness_range=(0.1, 1.9),\n",
        "    fill_mode=\"constant\",\n",
        "    cval=255,\n",
        "    preprocessing_function = preprocess_input\n",
        ")\n"
      ]
    },
    {
      "cell_type": "code",
      "execution_count": 12,
      "metadata": {
        "colab": {
          "base_uri": "https://localhost:8080/"
        },
        "id": "2HRdDz11UJy_",
        "outputId": "ef779332-0fc2-4f92-afa4-e4adf31fd398"
      },
      "outputs": [
        {
          "name": "stdout",
          "output_type": "stream",
          "text": [
            "2.15.0\n",
            "2.15.0\n"
          ]
        }
      ],
      "source": [
        "print(keras.__version__)\n",
        "print(tf.__version__)\n",
        "model_dir = \"/mnt/Storage/Dataset/Yolo-cls/model.h5\"\n"
      ]
    },
    {
      "cell_type": "code",
      "execution_count": 13,
      "metadata": {
        "colab": {
          "base_uri": "https://localhost:8080/"
        },
        "id": "WMSZUn4bUO-i",
        "outputId": "dd321793-ad81-4532-aee4-d2f188f667fd"
      },
      "outputs": [
        {
          "name": "stdout",
          "output_type": "stream",
          "text": [
            "Downloading data from https://storage.googleapis.com/tensorflow/keras-applications/inception_v3/inception_v3_weights_tf_dim_ordering_tf_kernels_notop.h5\n",
            "87910968/87910968 [==============================] - 55s 1us/step\n",
            "Found 1741 images belonging to 6 classes.\n",
            "Found 268 images belonging to 6 classes.\n",
            "Epoch 1/20\n"
          ]
        },
        {
          "name": "stderr",
          "output_type": "stream",
          "text": [
            "2024-02-09 01:33:24.643913: W external/local_tsl/tsl/framework/cpu_allocator_impl.cc:83] Allocation of 25563136 exceeds 10% of free system memory.\n",
            "2024-02-09 01:33:24.711737: W external/local_tsl/tsl/framework/cpu_allocator_impl.cc:83] Allocation of 24285184 exceeds 10% of free system memory.\n",
            "2024-02-09 01:33:24.742555: W external/local_tsl/tsl/framework/cpu_allocator_impl.cc:83] Allocation of 48570368 exceeds 10% of free system memory.\n",
            "2024-02-09 01:33:24.840223: W external/local_tsl/tsl/framework/cpu_allocator_impl.cc:83] Allocation of 31850496 exceeds 10% of free system memory.\n",
            "2024-02-09 01:33:26.256167: W external/local_tsl/tsl/framework/cpu_allocator_impl.cc:83] Allocation of 25563136 exceeds 10% of free system memory.\n"
          ]
        },
        {
          "name": "stdout",
          "output_type": "stream",
          "text": [
            "\n",
            "Epoch 1: accuracy improved from -inf to 0.25395, saving model to /mnt/Storage/Dataset/Yolo-cls/model.h5\n"
          ]
        },
        {
          "name": "stderr",
          "output_type": "stream",
          "text": [
            "/home/srikar/miniconda3/envs/GG_1240/lib/python3.10/site-packages/keras/src/engine/training.py:3103: UserWarning: You are saving your model as an HDF5 file via `model.save()`. This file format is considered legacy. We recommend using instead the native Keras format, e.g. `model.save('my_model.keras')`.\n",
            "  saving_api.save_model(\n"
          ]
        },
        {
          "name": "stdout",
          "output_type": "stream",
          "text": [
            "54/54 - 93s - loss: 38.6484 - accuracy: 0.2539 - val_loss: 25.1150 - val_accuracy: 0.2188 - 93s/epoch - 2s/step\n",
            "Epoch 2/20\n",
            "\n",
            "Epoch 2: accuracy improved from 0.25395 to 0.27384, saving model to /mnt/Storage/Dataset/Yolo-cls/model.h5\n",
            "54/54 - 77s - loss: 35.2496 - accuracy: 0.2738 - val_loss: 26.5674 - val_accuracy: 0.1992 - 77s/epoch - 1s/step\n",
            "Epoch 3/20\n",
            "\n",
            "Epoch 3: accuracy improved from 0.27384 to 0.29901, saving model to /mnt/Storage/Dataset/Yolo-cls/model.h5\n",
            "54/54 - 77s - loss: 30.9208 - accuracy: 0.2990 - val_loss: 23.0745 - val_accuracy: 0.2227 - 77s/epoch - 1s/step\n",
            "Epoch 4/20\n",
            "\n",
            "Epoch 4: accuracy did not improve from 0.29901\n",
            "54/54 - 83s - loss: 31.7330 - accuracy: 0.2791 - val_loss: 19.2930 - val_accuracy: 0.2266 - 83s/epoch - 2s/step\n",
            "Epoch 5/20\n",
            "\n",
            "Epoch 5: accuracy improved from 0.29901 to 0.30369, saving model to /mnt/Storage/Dataset/Yolo-cls/model.h5\n",
            "54/54 - 80s - loss: 28.3396 - accuracy: 0.3037 - val_loss: 17.5428 - val_accuracy: 0.2852 - 80s/epoch - 1s/step\n",
            "Epoch 6/20\n",
            "\n",
            "Epoch 6: accuracy improved from 0.30369 to 0.31656, saving model to /mnt/Storage/Dataset/Yolo-cls/model.h5\n",
            "54/54 - 92s - loss: 27.6107 - accuracy: 0.3166 - val_loss: 18.2708 - val_accuracy: 0.2617 - 92s/epoch - 2s/step\n",
            "Epoch 7/20\n"
          ]
        }
      ],
      "source": [
        "# Define constants\n",
        "NUM_CLASSES = 6\n",
        "BATCH_SIZE = 32\n",
        "EPOCHS = 20\n",
        "LR = 0.0002\n",
        "\n",
        "TRAIN_DIR = train_data_dir\n",
        "TEST_DIR = test_data_dir\n",
        "\n",
        "# Use ResNet101 for the base model\n",
        "base_model = InceptionV3(\n",
        "    weights=\"imagenet\", include_top=False, input_shape=IMG_SIZE + (3,)\n",
        ")\n",
        "\n",
        "# Freeze the layers of the base model\n",
        "for layer in base_model.layers:\n",
        "    layer.trainable = False\n",
        "\n",
        "# Define the model\n",
        "model = Sequential()\n",
        "model.add(base_model)\n",
        "model.add(tf.keras.layers.GlobalAveragePooling2D())\n",
        "model.add(Dropout(0.5))  # Add dropout after the pooling layer\n",
        "model.add(\n",
        "    Dense(NUM_CLASSES, activation=\"softmax\", kernel_regularizer=l2(0.01))\n",
        ")  # Add L2 regularization to the Dense layer\n",
        "\n",
        "# Compile the model\n",
        "optim = keras.optimizers.Adam(learning_rate=LR)\n",
        "model.compile(optimizer=optim, loss=\"categorical_crossentropy\", metrics=[\"accuracy\"])\n",
        "\n",
        "# Define the data generators\n",
        "train_generator = train_datagen.flow_from_directory(\n",
        "    TRAIN_DIR, target_size=IMG_SIZE, batch_size=BATCH_SIZE, class_mode=\"categorical\"\n",
        ")\n",
        "\n",
        "test_generator = test_datagen.flow_from_directory(\n",
        "    TEST_DIR, target_size=IMG_SIZE, batch_size=BATCH_SIZE, class_mode=\"categorical\"\n",
        ")\n",
        "\n",
        "# Define the checkpoint\n",
        "metric = \"accuracy\"\n",
        "checkpoint = ModelCheckpoint(\n",
        "    filepath=model_dir,\n",
        "    monitor=metric,\n",
        "    verbose=2,\n",
        "    save_best_only=True,\n",
        "    mode=\"max\",\n",
        ")\n",
        "\n",
        "# Add early stopping\n",
        "early_stopping = EarlyStopping(monitor=\"val_loss\", patience=4)\n",
        "\n",
        "callbacks = [checkpoint, early_stopping]  # Add early stopping to callbacks\n",
        "\n",
        "# Train the model\n",
        "start = datetime.now()\n",
        "\n",
        "model_history = model.fit(\n",
        "    train_generator,\n",
        "    validation_data=test_generator,\n",
        "    epochs=EPOCHS,\n",
        "    steps_per_epoch=1741 // BATCH_SIZE,\n",
        "    validation_steps=268 // BATCH_SIZE,\n",
        "    callbacks=callbacks,\n",
        "    verbose=2,\n",
        ")\n",
        "\n",
        "duration = datetime.now() - start\n",
        "print(\"Training completed in time: \", duration)\n"
      ]
    },
    {
      "cell_type": "code",
      "execution_count": null,
      "metadata": {
        "id": "W0skNPmrUu_u"
      },
      "outputs": [
        {
          "data": {
            "image/png": "[encoded data removed]",
            "text/plain": [
              "<Figure size 640x480 with 1 Axes>"
            ]
          },
          "metadata": {},
          "output_type": "display_data"
        }
      ],
      "source": [
        "plt.plot(model_history.history[\"accuracy\"])\n",
        "plt.plot(model_history.history[\"val_accuracy\"])\n",
        "plt.title(\"CNN Model accuracy values\")\n",
        "plt.ylabel(\"Accuracy\")\n",
        "plt.xlabel(\"Epoch\")\n",
        "plt.legend([\"Train\", \"Test\"], loc=\"upper left\")\n",
        "plt.show()\n"
      ]
    },
    {
      "cell_type": "code",
      "execution_count": null,
      "metadata": {
        "id": "cU--C5GGUyg-"
      },
      "outputs": [
        {
          "name": "stdout",
          "output_type": "stream",
          "text": [
            "1/1 [==============================] - 2s 2s/step\n",
            "humanitarianaid\n",
            "1/1 [==============================] - 0s 171ms/step\n",
            "destroyedbuilding\n",
            "1/1 [==============================] - 0s 142ms/step\n",
            "combat\n",
            "1/1 [==============================] - 0s 130ms/step\n",
            "combat\n",
            "1/1 [==============================] - 0s 210ms/step\n",
            "combat\n"
          ]
        }
      ],
      "source": [
        "# loaded_model = load_model(\"/mnt/Storage/Dataset/Yolo-cls//model_HC2.h5\")\n",
        "loaded_model = load_model(model_dir)\n",
        "\n",
        "# print(loaded_model.summary())\n",
        "event_arcs = [21, 29, 30, 34, 48]\n",
        "for i in event_arcs:\n",
        "    img = image.load_img(\n",
        "        \"/mnt/Storage/Projects/E-YRC/EYRC_2023/Task_5/Task_5A/Event_\" + str(i) + \".jpg\",\n",
        "        target_size=IMG_SIZE,\n",
        "    )\n",
        "    # img_array = transform(img)\n",
        "    img_array = image.img_to_array(img)\n",
        "    img_array = np.expand_dims(img_array, axis=0)\n",
        "    img_array = preprocess_input(img_array)\n",
        "    probabilities = loaded_model.predict(img_array)\n",
        "    predicted_class_index = np.argmax(probabilities)\n",
        "    pred = class_labels[predicted_class_index]\n",
        "    print(pred)\n"
      ]
    },
    {
      "cell_type": "code",
      "execution_count": null,
      "metadata": {},
      "outputs": [
        {
          "name": "stdout",
          "output_type": "stream",
          "text": [
            "1/1 [==============================] - 2s 2s/step\n",
            "destroyedbuilding\n"
          ]
        }
      ],
      "source": [
        "# loaded_model = load_model(\"/mnt/Storage/Dataset/model_HC.h5\")\n",
        "loaded_model = load_model(model_dir)\n",
        "# print(loaded_model.summary())\n",
        "event_arcs = [21, 29, 30, 34, 48]\n",
        "img = image.load_img(\n",
        "    \"/mnt/Storage/Downloads/Event_48.jpg\",\n",
        "    target_size=IMG_SIZE,\n",
        ")\n",
        "img_array = image.img_to_array(img)\n",
        "img_array = np.expand_dims(img_array, axis=0)   \n",
        "img_array = preprocess_input(img_array)\n",
        "probabilities = loaded_model.predict(img_array)\n",
        "predicted_class_index = np.argmax(probabilities)\n",
        "pred = class_labels[predicted_class_index]\n",
        "print(pred)\n"
      ]
    }
  ],
  "metadata": {
    "accelerator": "GPU",
    "colab": {
      "gpuType": "T4",
      "provenance": []
    },
    "kernelspec": {
      "display_name": "Python 3",
      "name": "python3"
    },
    "language_info": {
      "codemirror_mode": {
        "name": "ipython",
        "version": 3
      },
      "file_extension": ".py",
      "mimetype": "text/x-python",
      "name": "python",
      "nbconvert_exporter": "python",
      "pygments_lexer": "ipython3",
      "version": "3.10.12"
    }
  },
  "nbformat": 4,
  "nbformat_minor": 0
}
