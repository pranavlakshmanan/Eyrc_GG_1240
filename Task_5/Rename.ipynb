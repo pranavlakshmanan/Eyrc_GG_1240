{
 "cells": [
  {
   "cell_type": "code",
   "execution_count": 5,
   "metadata": {},
   "outputs": [],
   "source": [
    "import os\n",
    "\n",
    "\n",
    "def create_txt_files(directory_in, directory_out,num):\n",
    "    for filename in os.listdir(directory_in):\n",
    "        base_name, ext = os.path.splitext(filename)\n",
    "        new_file = base_name + \".txt\"\n",
    "        if not os.path.exists(os.path.join(directory_out, new_file)):\n",
    "            with open(os.path.join(directory_out, new_file), \"w\") as f:\n",
    "                f.write(str(num)+\" \"+\"0.500000 0.500000 1.000000 1.000000\")\n",
    "\n",
    "\n",
    "class_labels = [\n",
    "    \"fire\",\n",
    "    \"destroyed_buildings\",\n",
    "    \"human_aid_rehabilitation\",\n",
    "    \"military_vehicles\",\n",
    "    \"combat\",\n",
    "]\n",
    "# Replace 'your_directory_path' with the path of your directory\n",
    "for i in class_labels:\n",
    "    create_txt_files(\n",
    "        \"/mnt/Storage/Dataset/Yolo/val/images/\" + str(i) + \"/\",\n",
    "        \"/mnt/Storage/Dataset/Yolo/val/lables/\", class_labels.index(i)\n",
    "    )\n"
   ]
  },
  {
   "cell_type": "code",
   "execution_count": 14,
   "metadata": {},
   "outputs": [
    {
     "name": "stdout",
     "output_type": "stream",
     "text": [
      "Image paths written to /mnt/Storage/Dataset/Yolo/data/test.txt\n"
     ]
    }
   ],
   "source": [
    "# import os\n",
    "\n",
    "\n",
    "# def create_txt_files(directory_in, directory_out, num):\n",
    "#     for filename in os.listdir(directory_in):\n",
    "#         base_name, ext = os.path.splitext(filename)\n",
    "#         new_file = base_name + \".txt\"\n",
    "#         # if not os.path.exists(os.path.join(directory_out, new_file)):\n",
    "#         with open(directory_out, \"w\") as f:\n",
    "#             f.write(\n",
    "#                 \"val/images/combat/\"\n",
    "#                 + filename\n",
    "#                 + \" 0.500000 0.500000 1.000000 1.000000\"\n",
    "#                 + \" \"\n",
    "#                 + str(num)\n",
    "#             )\n",
    "\n",
    "\n",
    "class_labels = [\n",
    "    \"fire\",\n",
    "    \"destroyed_buildings\",\n",
    "    \"human_aid_rehabilitation\",\n",
    "    \"military_vehicles\",\n",
    "    \"combat\",\n",
    "]\n",
    "\n",
    "import os\n",
    "\n",
    "\n",
    "def create_txt_files(rootDir, output_file):\n",
    "    with open(output_file, \"w\") as file:\n",
    "        for subdir in class_labels:\n",
    "            for dirName, subdirList, fileList in os.walk(rootDir + subdir):\n",
    "                for fname in fileList:\n",
    "                    if fname.lower().endswith((\".jpg\")):\n",
    "                        file.write(\n",
    "                            os.path.join(dirName, fname)\n",
    "                            + \" 0.500000 0.500000 1.000000 1.000000 \"\n",
    "                            + str(\n",
    "                                class_labels.index(subdir),\n",
    "                            )\n",
    "                            + \"\\n\"\n",
    "                        )\n",
    "\n",
    "    print(f\"Image paths written to {output_file}\")\n",
    "\n",
    "\n",
    "create_txt_files(\n",
    "    \"/mnt/Storage/Dataset/Yolo/test/images/\",\n",
    "    \"/mnt/Storage/Dataset/Yolo/data/test.txt\",\n",
    ")\n"
   ]
  }
 ],
 "metadata": {
  "kernelspec": {
   "display_name": "GG_1240",
   "language": "python",
   "name": "python3"
  },
  "language_info": {
   "codemirror_mode": {
    "name": "ipython",
    "version": 3
   },
   "file_extension": ".py",
   "mimetype": "text/x-python",
   "name": "python",
   "nbconvert_exporter": "python",
   "pygments_lexer": "ipython3",
   "version": "3.10.12"
  }
 },
 "nbformat": 4,
 "nbformat_minor": 2
}
