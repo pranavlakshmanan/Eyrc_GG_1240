{
  "cells": [
    {
      "cell_type": "code",
      "execution_count": 134,
      "metadata": {
        "id": "kymKPWIS9QHA"
      },
      "outputs": [],
      "source": [
        "from keras.layers import Input, Lambda, Dense, Flatten\n",
        "from keras.models import Model\n",
        "from keras.applications.vgg16 import VGG16\n",
        "from keras.applications.vgg16 import preprocess_input\n",
        "from keras.preprocessing import image\n",
        "from keras.preprocessing.image import ImageDataGenerator\n",
        "from keras.models import Sequential\n",
        "from keras.models import load_model\n",
        "import keras.optimizers\n",
        "import numpy as np\n",
        "from glob import glob\n",
        "import matplotlib.pyplot as plt\n",
        "\n",
        "import warnings\n",
        "\n",
        "\n",
        "warnings.filterwarnings(\"ignore\", category=FutureWarning)"
      ]
    },
    {
      "cell_type": "code",
      "execution_count": 135,
      "metadata": {
        "id": "ztvnQbfNL13G"
      },
      "outputs": [],
      "source": [
        "IMAGE_SIZE = [50,50]\n",
        "eps = 20\n",
        "lr = 0.001\n",
        "bs = 20"
      ]
    },
    {
      "cell_type": "code",
      "execution_count": 136,
      "metadata": {
        "id": "79xfCi1VL4WE"
      },
      "outputs": [],
      "source": [
        "# Give dataset path\n",
        "train_path = \"Task2_dataset//training/\"\n",
        "test_path = \"Task2_dataset//testing/\""
      ]
    },
    {
      "cell_type": "code",
      "execution_count": 137,
      "metadata": {
        "colab": {
          "base_uri": "https://localhost:8080/",
          "height": 1000
        },
        "id": "nXzCeUIa4APa",
        "outputId": "8c747f55-511c-4ae9-f993-2b824dda2c37"
      },
      "outputs": [],
      "source": [
        "# from PIL import Image\n",
        "# import os\n",
        "# from IPython.display import display\n",
        "# from IPython.display import Image as _Imgdis\n",
        "\n",
        "\n",
        "# # creating a object\n",
        "\n",
        "\n",
        "# folder = train_path + \"/benign\"\n",
        "\n",
        "\n",
        "# onlybenignfiles = [\n",
        "\n",
        "#     f for f in os.listdir(folder) if os.path.isfile(os.path.join(folder, f))\n",
        "\n",
        "# ]\n",
        "# print(\"Working with {0} images\".format(len(onlybenignfiles)))\n",
        "# print(\"Image examples: \")\n",
        "\n",
        "\n",
        "# for i in range(10):\n",
        "#     print(onlybenignfiles[i])\n",
        "#     display(_Imgdis(filename=folder + \"/\" + onlybenignfiles[i], width=50, height=50))"
      ]
    },
    {
      "cell_type": "code",
      "execution_count": 138,
      "metadata": {
        "colab": {
          "base_uri": "https://localhost:8080/"
        },
        "id": "HDHko5V6MaVr",
        "outputId": "2499581b-9749-49b9-f723-1ed94173b65c"
      },
      "outputs": [],
      "source": [
        "vgg = VGG16(input_shape=IMAGE_SIZE + [3], weights=\"imagenet\", include_top=False)"
      ]
    },
    {
      "cell_type": "code",
      "execution_count": 139,
      "metadata": {
        "colab": {
          "base_uri": "https://localhost:8080/"
        },
        "id": "Lt7P2RKid8PU",
        "outputId": "0dcd9239-62e2-4abd-f5bb-3b4277e99a60"
      },
      "outputs": [
        {
          "data": {
            "text/plain": [
              "<KerasTensor: shape=(None, 50, 50, 3) dtype=float32 (created by layer 'input_8')>"
            ]
          },
          "execution_count": 139,
          "metadata": {},
          "output_type": "execute_result"
        }
      ],
      "source": [
        "vgg.input"
      ]
    },
    {
      "cell_type": "code",
      "execution_count": 140,
      "metadata": {
        "id": "cwdsXOLlMdiR"
      },
      "outputs": [],
      "source": [
        "for layer in vgg.layers:\n",
        "    layer.trainable = False"
      ]
    },
    {
      "cell_type": "code",
      "execution_count": 141,
      "metadata": {
        "colab": {
          "base_uri": "https://localhost:8080/"
        },
        "id": "jR_L6S1_lr4L",
        "outputId": "6cc4c387-2cfb-4f8b-8f57-6315d1230c51"
      },
      "outputs": [
        {
          "name": "stdout",
          "output_type": "stream",
          "text": [
            "5\n"
          ]
        }
      ],
      "source": [
        "folders = glob(\"Task2_dataset//training/*\")\n",
        "print(len(folders))"
      ]
    },
    {
      "cell_type": "code",
      "execution_count": 142,
      "metadata": {
        "colab": {
          "base_uri": "https://localhost:8080/"
        },
        "id": "G56cRtmvMiVj",
        "outputId": "847cd451-e8eb-4ded-e215-12705d78aeb6"
      },
      "outputs": [
        {
          "name": "stdout",
          "output_type": "stream",
          "text": [
            "Model: \"model_7\"\n",
            "_________________________________________________________________\n",
            " Layer (type)                Output Shape              Param #   \n",
            "=================================================================\n",
            " input_8 (InputLayer)        [(None, 50, 50, 3)]       0         \n",
            "                                                                 \n",
            " block1_conv1 (Conv2D)       (None, 50, 50, 64)        1792      \n",
            "                                                                 \n",
            " block1_conv2 (Conv2D)       (None, 50, 50, 64)        36928     \n",
            "                                                                 \n",
            " block1_pool (MaxPooling2D)  (None, 25, 25, 64)        0         \n",
            "                                                                 \n",
            " block2_conv1 (Conv2D)       (None, 25, 25, 128)       73856     \n",
            "                                                                 \n",
            " block2_conv2 (Conv2D)       (None, 25, 25, 128)       147584    \n",
            "                                                                 \n",
            " block2_pool (MaxPooling2D)  (None, 12, 12, 128)       0         \n",
            "                                                                 \n",
            " block3_conv1 (Conv2D)       (None, 12, 12, 256)       295168    \n",
            "                                                                 \n",
            " block3_conv2 (Conv2D)       (None, 12, 12, 256)       590080    \n",
            "                                                                 \n",
            " block3_conv3 (Conv2D)       (None, 12, 12, 256)       590080    \n",
            "                                                                 \n",
            " block3_pool (MaxPooling2D)  (None, 6, 6, 256)         0         \n",
            "                                                                 \n",
            " block4_conv1 (Conv2D)       (None, 6, 6, 512)         1180160   \n",
            "                                                                 \n",
            " block4_conv2 (Conv2D)       (None, 6, 6, 512)         2359808   \n",
            "                                                                 \n",
            " block4_conv3 (Conv2D)       (None, 6, 6, 512)         2359808   \n",
            "                                                                 \n",
            " block4_pool (MaxPooling2D)  (None, 3, 3, 512)         0         \n",
            "                                                                 \n",
            " block5_conv1 (Conv2D)       (None, 3, 3, 512)         2359808   \n",
            "                                                                 \n",
            " block5_conv2 (Conv2D)       (None, 3, 3, 512)         2359808   \n",
            "                                                                 \n",
            " block5_conv3 (Conv2D)       (None, 3, 3, 512)         2359808   \n",
            "                                                                 \n",
            " block5_pool (MaxPooling2D)  (None, 1, 1, 512)         0         \n",
            "                                                                 \n",
            " flatten_7 (Flatten)         (None, 512)               0         \n",
            "                                                                 \n",
            " dense_7 (Dense)             (None, 5)                 2565      \n",
            "                                                                 \n"
          ]
        },
        {
          "name": "stdout",
          "output_type": "stream",
          "text": [
            "=================================================================\n",
            "Total params: 14717253 (56.14 MB)\n",
            "Trainable params: 2565 (10.02 KB)\n",
            "Non-trainable params: 14714688 (56.13 MB)\n",
            "_________________________________________________________________\n"
          ]
        }
      ],
      "source": [
        "x = Flatten()(vgg.output)\n",
        "prediction = Dense(len(folders), activation=\"softmax\")(x)\n",
        "model = Model(inputs=vgg.input, outputs=prediction)\n",
        "model.summary()"
      ]
    },
    {
      "cell_type": "code",
      "execution_count": 143,
      "metadata": {
        "id": "L6x9IHTBM1CA"
      },
      "outputs": [
        {
          "name": "stdout",
          "output_type": "stream",
          "text": [
            "<tf.Variable 'learning_rate:0' shape=() dtype=float32, numpy=0.001>\n"
          ]
        }
      ],
      "source": [
        "from keras import optimizers\n",
        "\n",
        "optimizer = optimizers.Adam(lr)\n",
        "# optimizer.learning_rate.assign(0.0001)\n",
        "print(optimizer.learning_rate)\n",
        "\n",
        "model.compile(\n",
        "    loss=\"categorical_crossentropy\",\n",
        "    optimizer=optimizer,\n",
        "    metrics=[\"accuracy\"],\n",
        ")"
      ]
    },
    {
      "cell_type": "code",
      "execution_count": 144,
      "metadata": {
        "id": "l0YRD6xfnnrk"
      },
      "outputs": [],
      "source": [
        "train_datagen = ImageDataGenerator(\n",
        "    preprocessing_function=preprocess_input,\n",
        "    rotation_range=40,\n",
        "    width_shift_range=0.2,\n",
        "    height_shift_range=0.2,\n",
        "    shear_range=0.2,\n",
        "    zoom_range=0.2,\n",
        "    horizontal_flip=True,\n",
        "    fill_mode='nearest')\n",
        "\n",
        "\n",
        "#train_datagen = ImageDataGenerator(preprocessing_function=preprocess_input)"
      ]
    },
    {
      "cell_type": "code",
      "execution_count": 145,
      "metadata": {
        "id": "BPfA9FCGoHBF"
      },
      "outputs": [],
      "source": [
        "test_datagen = ImageDataGenerator(\n",
        "    preprocessing_function=preprocess_input,\n",
        "    rotation_range=40,\n",
        "    width_shift_range=0.2,\n",
        "    height_shift_range=0.2,\n",
        "    shear_range=0.2,\n",
        "    zoom_range=0.2,\n",
        "    horizontal_flip=True,\n",
        "    fill_mode='nearest')\n",
        "\n",
        "\n",
        "#test_datagen = ImageDataGenerator(preprocessing_function=preprocess_input)"
      ]
    },
    {
      "cell_type": "code",
      "execution_count": 146,
      "metadata": {
        "colab": {
          "base_uri": "https://localhost:8080/"
        },
        "id": "v-c2pnSGoJlL",
        "outputId": "06b8f453-49e3-45df-e07c-df7e1f8ecb89"
      },
      "outputs": [
        {
          "name": "stdout",
          "output_type": "stream",
          "text": [
            "Found 2344 images belonging to 5 classes.\n"
          ]
        }
      ],
      "source": [
        "train_set = train_datagen.flow_from_directory(\n",
        "    train_path, target_size=(IMAGE_SIZE), batch_size=bs, class_mode=\"categorical\"\n",
        ")"
      ]
    },
    {
      "cell_type": "code",
      "execution_count": 147,
      "metadata": {
        "colab": {
          "base_uri": "https://localhost:8080/"
        },
        "id": "nNPc_W70oLzY",
        "outputId": "098d33de-ce4b-4349-eb5a-4906765b56b9"
      },
      "outputs": [
        {
          "name": "stdout",
          "output_type": "stream",
          "text": [
            "Found 10 images belonging to 5 classes.\n"
          ]
        }
      ],
      "source": [
        "test_set = test_datagen.flow_from_directory(\n",
        "    test_path, target_size=(IMAGE_SIZE), batch_size=bs, class_mode=\"categorical\"\n",
        ")"
      ]
    },
    {
      "cell_type": "code",
      "execution_count": 148,
      "metadata": {},
      "outputs": [],
      "source": [
        "from keras import backend as K\n",
        "class printlearningrate(keras.callbacks.Callback):\n",
        "    def on_epoch_end(self, epoch, logs={}):\n",
        "        optimizer = self.model.optimizer\n",
        "        lr = K.eval(optimizer.lr)\n",
        "        Epoch_count = epoch + 1\n",
        "        print('\\n', \"Epoch:\", Epoch_count, ', LR: {:.2f}'.format(lr))\n",
        "\n",
        "printlr = printlearningrate() \n",
        "def scheduler(epoch):\n",
        "  optimizer = model.optimizer\n",
        "  return K.eval(optimizer.lr)\n",
        "\n",
        "updatelr = keras.callbacks.LearningRateScheduler(scheduler)"
      ]
    },
    {
      "cell_type": "code",
      "execution_count": 149,
      "metadata": {
        "colab": {
          "base_uri": "https://localhost:8080/"
        },
        "id": "3jPaek3VoRUz",
        "outputId": "736aac45-ce77-4ebf-c3dd-ef8e877019a2"
      },
      "outputs": [
        {
          "name": "stderr",
          "output_type": "stream",
          "text": [
            "/tmp/ipykernel_10489/1546718044.py:12: UserWarning: `Model.fit_generator` is deprecated and will be removed in a future version. Please use `Model.fit`, which supports generators.\n",
            "  model_history = model.fit_generator(\n"
          ]
        },
        {
          "name": "stdout",
          "output_type": "stream",
          "text": [
            "Epoch 1/20\n",
            "WARNING:tensorflow:Your input ran out of data; interrupting training. Make sure that your dataset or generator can generate at least `steps_per_epoch * epochs` batches (in this case, 5 batches). You may need to use the repeat() function when building your dataset.\n",
            "\n",
            "Epoch 1: accuracy improved from -inf to 0.08000, saving model to vgg16model.h5\n"
          ]
        },
        {
          "name": "stderr",
          "output_type": "stream",
          "text": [
            "/home/srikar/miniconda3/envs/GG_1240/lib/python3.9/site-packages/keras/src/engine/training.py:3079: UserWarning: You are saving your model as an HDF5 file via `model.save()`. This file format is considered legacy. We recommend using instead the native Keras format, e.g. `model.save('my_model.keras')`.\n",
            "  saving_api.save_model(\n"
          ]
        },
        {
          "name": "stdout",
          "output_type": "stream",
          "text": [
            "5/5 - 3s - loss: 28.4735 - accuracy: 0.0800 - val_loss: 18.1326 - val_accuracy: 0.2000 - 3s/epoch - 663ms/step\n",
            "Epoch 2/20\n",
            "\n",
            "Epoch 2: accuracy improved from 0.08000 to 0.15000, saving model to vgg16model.h5\n",
            "5/5 - 3s - loss: 18.4724 - accuracy: 0.1500 - 3s/epoch - 509ms/step\n",
            "Epoch 3/20\n",
            "\n",
            "Epoch 3: accuracy improved from 0.15000 to 0.29000, saving model to vgg16model.h5\n",
            "5/5 - 3s - loss: 12.5081 - accuracy: 0.2900 - 3s/epoch - 522ms/step\n",
            "Epoch 4/20\n",
            "\n",
            "Epoch 4: accuracy improved from 0.29000 to 0.46000, saving model to vgg16model.h5\n",
            "5/5 - 2s - loss: 9.2244 - accuracy: 0.4600 - 2s/epoch - 469ms/step\n",
            "Epoch 5/20\n",
            "\n",
            "Epoch 5: accuracy improved from 0.46000 to 0.62000, saving model to vgg16model.h5\n",
            "5/5 - 3s - loss: 6.8989 - accuracy: 0.6200 - 3s/epoch - 580ms/step\n",
            "Epoch 6/20\n",
            "\n",
            "Epoch 6: accuracy did not improve from 0.62000\n",
            "5/5 - 2s - loss: 8.7072 - accuracy: 0.6200 - 2s/epoch - 383ms/step\n",
            "Epoch 7/20\n",
            "\n",
            "Epoch 7: accuracy improved from 0.62000 to 0.70000, saving model to vgg16model.h5\n",
            "5/5 - 2s - loss: 6.2720 - accuracy: 0.7000 - 2s/epoch - 473ms/step\n",
            "Epoch 8/20\n",
            "\n",
            "Epoch 8: accuracy did not improve from 0.70000\n",
            "5/5 - 2s - loss: 6.0406 - accuracy: 0.6900 - 2s/epoch - 396ms/step\n",
            "Epoch 9/20\n",
            "\n",
            "Epoch 9: accuracy improved from 0.70000 to 0.77000, saving model to vgg16model.h5\n",
            "5/5 - 3s - loss: 5.3767 - accuracy: 0.7700 - 3s/epoch - 590ms/step\n",
            "Epoch 10/20\n",
            "\n",
            "Epoch 10: accuracy did not improve from 0.77000\n",
            "5/5 - 2s - loss: 4.4406 - accuracy: 0.7700 - 2s/epoch - 487ms/step\n",
            "Epoch 11/20\n",
            "\n",
            "Epoch 11: accuracy did not improve from 0.77000\n",
            "5/5 - 2s - loss: 6.7578 - accuracy: 0.7100 - 2s/epoch - 311ms/step\n",
            "Epoch 12/20\n",
            "\n",
            "Epoch 12: accuracy did not improve from 0.77000\n",
            "5/5 - 3s - loss: 3.8771 - accuracy: 0.7700 - 3s/epoch - 572ms/step\n",
            "Epoch 13/20\n",
            "\n",
            "Epoch 13: accuracy did not improve from 0.77000\n",
            "5/5 - 3s - loss: 6.2927 - accuracy: 0.7200 - 3s/epoch - 697ms/step\n",
            "Epoch 14/20\n",
            "\n",
            "Epoch 14: accuracy did not improve from 0.77000\n",
            "5/5 - 2s - loss: 3.6545 - accuracy: 0.7200 - 2s/epoch - 361ms/step\n",
            "Epoch 15/20\n",
            "\n",
            "Epoch 15: accuracy did not improve from 0.77000\n",
            "5/5 - 2s - loss: 3.0869 - accuracy: 0.7700 - 2s/epoch - 354ms/step\n",
            "Epoch 16/20\n",
            "\n",
            "Epoch 16: accuracy did not improve from 0.77000\n",
            "5/5 - 2s - loss: 2.8143 - accuracy: 0.7500 - 2s/epoch - 429ms/step\n",
            "Epoch 17/20\n",
            "\n",
            "Epoch 17: accuracy did not improve from 0.77000\n",
            "5/5 - 2s - loss: 4.4951 - accuracy: 0.7100 - 2s/epoch - 390ms/step\n",
            "Epoch 18/20\n",
            "\n",
            "Epoch 18: accuracy did not improve from 0.77000\n",
            "5/5 - 1s - loss: 3.4709 - accuracy: 0.7700 - 1s/epoch - 271ms/step\n",
            "Epoch 19/20\n",
            "\n",
            "Epoch 19: accuracy improved from 0.77000 to 0.78000, saving model to vgg16model.h5\n",
            "5/5 - 2s - loss: 3.2820 - accuracy: 0.7800 - 2s/epoch - 439ms/step\n",
            "Epoch 20/20\n",
            "\n",
            "Epoch 20: accuracy did not improve from 0.78000\n",
            "5/5 - 1s - loss: 4.2434 - accuracy: 0.7300 - 1s/epoch - 266ms/step\n",
            "Training completed in time:  0:00:52.477866\n"
          ]
        }
      ],
      "source": [
        "from datetime import datetime\n",
        "from keras.callbacks import ModelCheckpoint\n",
        "\n",
        "metric = \"accuracy\"\n",
        "checkpoint = ModelCheckpoint(\n",
        "    filepath=\"vgg16model.h5\", monitor=metric, verbose=2, save_best_only=True, mode=\"max\"\n",
        ")\n",
        "callbacks = [checkpoint]\n",
        "\n",
        "start = datetime.now()\n",
        "\n",
        "model_history = model.fit_generator(\n",
        "    train_set,\n",
        "    validation_data=test_set,\n",
        "    epochs=eps,\n",
        "    steps_per_epoch=5,\n",
        "    validation_steps=5,\n",
        "    callbacks=callbacks,\n",
        "    verbose=2,\n",
        ")\n",
        "duration = datetime.now() - start\n",
        "print(\"Training completed in time: \", duration)"
      ]
    },
    {
      "cell_type": "code",
      "execution_count": 150,
      "metadata": {
        "colab": {
          "base_uri": "https://localhost:8080/",
          "height": 295
        },
        "id": "-xWwh8bVoYn9",
        "outputId": "311b4e3f-880d-4dfc-8ddf-300d1716d5f6"
      },
      "outputs": [
        {
          "data": {
            "image/png": "[encoded data removed]",
            "text/plain": [
              "<Figure size 640x480 with 1 Axes>"
            ]
          },
          "metadata": {},
          "output_type": "display_data"
        }
      ],
      "source": [
        "# Plot training & validation loss values\n",
        "plt.plot(model_history.history[\"accuracy\"])\n",
        "plt.plot(model_history.history[\"val_accuracy\"])\n",
        "plt.title(\"CNN Model accuracy values\")\n",
        "plt.ylabel(\"Accuracy\")\n",
        "plt.xlabel(\"Epoch\")\n",
        "plt.legend([\"Train\", \"Test\"], loc=\"upper left\")\n",
        "plt.show()"
      ]
    },
    {
      "cell_type": "code",
      "execution_count": 151,
      "metadata": {},
      "outputs": [
        {
          "name": "stdout",
          "output_type": "stream",
          "text": [
            "1/1 [==============================] - 0s 210ms/step\n",
            "Predicted class index: 4\n",
            "Predicted class: militaryvehicles\n",
            "1/1 [==============================] - 0s 62ms/step\n",
            "Predicted class index: 4\n",
            "Predicted class: militaryvehicles\n",
            "1/1 [==============================] - 0s 46ms/step\n",
            "Predicted class index: 4\n",
            "Predicted class: militaryvehicles\n",
            "1/1 [==============================] - 0s 43ms/step\n",
            "Predicted class index: 2\n",
            "Predicted class: fire\n",
            "1/1 [==============================] - 0s 30ms/step\n",
            "Predicted class index: 2\n",
            "Predicted class: fire\n"
          ]
        }
      ],
      "source": [
        "import cv2\n",
        "import numpy as np\n",
        "\n",
        "# Load the trained model from the .h5 file\n",
        "model = load_model(\"vgg16model.h5\")\n",
        "#model.compile(loss=\"categorical_crossentropy\", optimizer=\"adam\", metrics=[\"accuracy\"])\n",
        "\n",
        "# Read an input image (you can replace 'test.jpg' with your own image file)\n",
        "for i in range(0, 5):\n",
        "    img = cv2.imread(\n",
        "        \"/mnt/Storage Drive/Projects/E-YRC/EYRC_2023/Task 2/Task 2C/imgdir/cropped_image_\"\n",
        "        + str(i)\n",
        "        + \".jpg\"\n",
        "    )\n",
        "    img = cv2.resize(img, (IMAGE_SIZE))\n",
        "    img = np.reshape(img, [1, IMAGE_SIZE[0],IMAGE_SIZE[1], 3])\n",
        "    probabilities = model.predict(img)\n",
        "\n",
        "    # Get the index of the class with the highest probability\n",
        "    predicted_class_index = np.argmax(probabilities)\n",
        "    print(f\"Predicted class index: {predicted_class_index}\")\n",
        "\n",
        "    # If you have class labels, you can map the index to the actual class name\n",
        "    class_labels = [\n",
        "        \"combat\",\n",
        "        \"destroyedbuilding\",\n",
        "        \"fire\",\n",
        "        \"humanitarianaid\",\n",
        "        \"militaryvehicles\",\n",
        "    ]\n",
        "    predicted_class = class_labels[predicted_class_index]\n",
        "    print(f\"Predicted class: {predicted_class}\")\n",
        "\n",
        "    # fire, militaryvehicles, "
      ]
    },
    {
      "cell_type": "code",
      "execution_count": 152,
      "metadata": {},
      "outputs": [
        {
          "name": "stdout",
          "output_type": "stream",
          "text": [
            "1/1 [==============================] - 0s 150ms/step\n",
            "Predicted class index: 1\n",
            "1/1 [==============================] - 0s 30ms/step\n",
            "Predicted class index: 4\n",
            "1/1 [==============================] - 0s 30ms/step\n",
            "Predicted class index: 4\n",
            "1/1 [==============================] - 0s 28ms/step\n",
            "Predicted class index: 4\n",
            "1/1 [==============================] - 0s 45ms/step\n",
            "Predicted class index: 4\n",
            "1/1 [==============================] - 0s 48ms/step\n",
            "Predicted class index: 2\n",
            "1/1 [==============================] - 0s 46ms/step\n",
            "Predicted class index: 4\n",
            "1/1 [==============================] - 0s 45ms/step\n",
            "Predicted class index: 4\n",
            "1/1 [==============================] - 0s 50ms/step\n",
            "Predicted class index: 4\n",
            "1/1 [==============================] - 0s 28ms/step\n",
            "Predicted class index: 2\n",
            "  Acutal Image Name              Output Image Name\n",
            "0         building1             DestroyedBuildings\n",
            "1         building2  Military vehicles and weapons\n",
            "2           combat1  Military vehicles and weapons\n",
            "3           combat2  Military vehicles and weapons\n",
            "4             fire1  Military vehicles and weapons\n",
            "5             fire2                           Fire\n",
            "6         military1  Military vehicles and weapons\n",
            "7         military2  Military vehicles and weapons\n",
            "8            rehab1  Military vehicles and weapons\n",
            "9            rehab2                           Fire\n"
          ]
        },
        {
          "ename": "",
          "evalue": "",
          "output_type": "error",
          "traceback": [
            "\u001b[1;31mThe Kernel crashed while executing code in the the current cell or a previous cell. Please review the code in the cell(s) to identify a possible cause of the failure. Click <a href='https://aka.ms/vscodeJupyterKernelCrash'>here</a> for more info. View Jupyter <a href='command:jupyter.viewOutput'>log</a> for further details."
          ]
        }
      ],
      "source": [
        "import pandas as pd\n",
        "import pathlib\n",
        "\n",
        "test_data = [\n",
        "    \"building1\",\n",
        "    \"building2\",\n",
        "    \"combat1\",\n",
        "    \"combat2\",\n",
        "    \"fire1\",\n",
        "    \"fire2\",\n",
        "    \"military1\",\n",
        "    \"military2\",\n",
        "    \"rehab1\",\n",
        "    \"rehab2\",\n",
        "]\n",
        "\n",
        "model = load_model(\"vgg16model.h5\")\n",
        "# model = load_model(\n",
        "#     \"/mnt/Storage Drive/Projects/E-YRC/EYRC_2023/Task 2/Task 2B/vgg16_transfer_learning_model.keras\"\n",
        "# )\n",
        "root = pathlib.Path(\n",
        "    \"/mnt/Storage Drive/Projects/E-YRC/EYRC_2023/Task 2/Task 2C/Task2_dataset/training\"\n",
        ")\n",
        "class_names = sorted([j.name.split(\"/\")[-1] for j in root.iterdir()])\n",
        "\n",
        "\n",
        "def prediction():\n",
        "    headers = [\"Acutal Image Name\", \"   Output Image Name\"]\n",
        "    data = []\n",
        "    for i in test_data:\n",
        "        img_path = (\n",
        "            \"/mnt/Storage Drive/Projects/E-YRC/EYRC_2023/Task 2/Task 2C/Task2_dataset/testing/\"\n",
        "            + i\n",
        "            + \".jpeg\"\n",
        "        )\n",
        "        image = cv2.imread(img_path)\n",
        "        # input = Variable(image_tensor)\n",
        "        # output = model.predict(image)\n",
        "        img = cv2.resize(image, IMAGE_SIZE)\n",
        "        img = np.reshape(img, [1, IMAGE_SIZE[0], IMAGE_SIZE[1], 3])\n",
        "        probabilities = model.predict(img)\n",
        "        predicted_class_index = np.argmax(probabilities)\n",
        "        print(f\"Predicted class index: {predicted_class_index}\")\n",
        "        pred = class_names[predicted_class_index]\n",
        "        data.append([i, pred])\n",
        "    print(pd.DataFrame(data, columns=headers))\n",
        "\n",
        "\n",
        "prediction()"
      ]
    }
  ],
  "metadata": {
    "colab": {
      "name": "TransferLearning.ipynb",
      "provenance": []
    },
    "kernelspec": {
      "display_name": "Python 3",
      "name": "python3"
    },
    "language_info": {
      "codemirror_mode": {
        "name": "ipython",
        "version": 3
      },
      "file_extension": ".py",
      "mimetype": "text/x-python",
      "name": "python",
      "nbconvert_exporter": "python",
      "pygments_lexer": "ipython3",
      "version": "3.9.18"
    }
  },
  "nbformat": 4,
  "nbformat_minor": 0
}
